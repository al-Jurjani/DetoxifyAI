{
 "cells": [
  {
   "cell_type": "code",
   "execution_count": null,
   "id": "0",
   "metadata": {},
   "outputs": [],
   "source": [
    "from datasets import load_dataset, Dataset\n",
    "import pandas as pd"
   ]
  },
  {
   "cell_type": "code",
   "execution_count": null,
   "id": "1",
   "metadata": {},
   "outputs": [],
   "source": [
    "# The Hugging Face Datasets\n",
    "# real_toxicity = load_dataset(\"allenai/real-toxicity-prompts\", split=\"train\")\n",
    "multilingual_toxicity = load_dataset(\"textdetox/multilingual_toxicity_dataset\", split=\"en\")"
   ]
  },
  {
   "cell_type": "code",
   "execution_count": null,
   "id": "2",
   "metadata": {},
   "outputs": [],
   "source": [
    "# converting rt dataset\n",
    "# just taking \"prompt\" and \"challening\" columns\n",
    "# rt_data = pd.DataFrame(real_toxicity)\n",
    "# rt_data.head()\n"
   ]
  },
  {
   "cell_type": "code",
   "execution_count": null,
   "id": "3",
   "metadata": {},
   "outputs": [],
   "source": [
    "# convertuing the rt dataset\n",
    "mt_df = pd.DataFrame(multilingual_toxicity)\n",
    "mt_df.head()\n"
   ]
  },
  {
   "cell_type": "code",
   "execution_count": null,
   "id": "4",
   "metadata": {},
   "outputs": [],
   "source": [
    "mt_df.shape"
   ]
  },
  {
   "cell_type": "code",
   "execution_count": null,
   "id": "5",
   "metadata": {},
   "outputs": [],
   "source": [
    "jigsaw_df = pd.read_csv(\"Data/kaggle_dataset_train.csv\")\n",
    "jigsaw_df.head()"
   ]
  },
  {
   "cell_type": "code",
   "execution_count": null,
   "id": "6",
   "metadata": {},
   "outputs": [],
   "source": [
    "jigsaw_df.shape"
   ]
  },
  {
   "cell_type": "code",
   "execution_count": null,
   "id": "7",
   "metadata": {},
   "outputs": [],
   "source": [
    "jigsaw_df = jigsaw_df.drop(columns = ['id'])\n",
    "jigsaw_df.head()"
   ]
  },
  {
   "cell_type": "code",
   "execution_count": null,
   "id": "8",
   "metadata": {},
   "outputs": [],
   "source": [
    "# reducing all columns to just text and label (toxic or not toxic)\n",
    "if any(col in jigsaw_df.columns for col in ['severe_toxic', 'obscene', 'threat', 'insult', 'identity_hate']):\n",
    "    jigsaw_df[\"label\"] = jigsaw_df[['toxic', 'severe_toxic', 'obscene', 'threat', 'insult', 'identity_hate']].max(axis=1)\n",
    "else:\n",
    "    jigsaw_df[\"label\"] = jigsaw_df['toxic'].astype(int)\n",
    "\n",
    "jigsaw_df = jigsaw_df.rename(columns={\"comment_text\": \"text\"})\n",
    "jigsaw_df = jigsaw_df[[\"text\", \"label\"]]\n",
    "jigsaw_df.head()"
   ]
  },
  {
   "cell_type": "code",
   "execution_count": null,
   "id": "9",
   "metadata": {},
   "outputs": [],
   "source": [
    "jigsaw_df.shape"
   ]
  },
  {
   "cell_type": "code",
   "execution_count": null,
   "id": "10",
   "metadata": {},
   "outputs": [],
   "source": [
    "jigsaw_df.head(-10)"
   ]
  },
  {
   "cell_type": "code",
   "execution_count": null,
   "id": "11",
   "metadata": {},
   "outputs": [],
   "source": [
    "mt_df = mt_df.rename(columns={\"text\": \"text\", \"toxic\": \"label\"})\n",
    "mt_df = mt_df[[\"text\", \"label\"]]\n",
    "mt_df.head()"
   ]
  },
  {
   "cell_type": "code",
   "execution_count": null,
   "id": "12",
   "metadata": {},
   "outputs": [],
   "source": [
    "combined_df = pd.concat([jigsaw_df, mt_df], ignore_index=True)\n",
    "combined_df.shape"
   ]
  },
  {
   "cell_type": "code",
   "execution_count": null,
   "id": "13",
   "metadata": {},
   "outputs": [],
   "source": [
    "combined_df = combined_df.sample(frac=1, random_state=21).reset_index(drop=True)  # shuffling the dataframe\n",
    "combined_df.head()"
   ]
  },
  {
   "cell_type": "code",
   "execution_count": null,
   "id": "14",
   "metadata": {},
   "outputs": [],
   "source": [
    "combined_df.to_csv(\"Data/combined_dataset.csv\", index=False)"
   ]
  }
 ],
 "metadata": {
  "kernelspec": {
   "display_name": "Python 3",
   "language": "python",
   "name": "python3"
  },
  "language_info": {
   "codemirror_mode": {
    "name": "ipython",
    "version": 3
   },
   "file_extension": ".py",
   "mimetype": "text/x-python",
   "name": "python",
   "nbconvert_exporter": "python",
   "pygments_lexer": "ipython3",
   "version": "3.12.2"
  }
 },
 "nbformat": 4,
 "nbformat_minor": 5
}
